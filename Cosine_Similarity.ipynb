{
  "nbformat": 4,
  "nbformat_minor": 0,
  "metadata": {
    "colab": {
      "provenance": [],
      "toc_visible": true,
      "authorship_tag": "ABX9TyM0C/GirOQjaulzRYraMFrm",
      "include_colab_link": true
    },
    "kernelspec": {
      "name": "python3",
      "display_name": "Python 3"
    },
    "language_info": {
      "name": "python"
    }
  },
  "cells": [
    {
      "cell_type": "markdown",
      "metadata": {
        "id": "view-in-github",
        "colab_type": "text"
      },
      "source": [
        "<a href=\"https://colab.research.google.com/github/shadabmalikcse/cosine-similarity/blob/main/Cosine_Similarity.ipynb\" target=\"_parent\"><img src=\"https://colab.research.google.com/assets/colab-badge.svg\" alt=\"Open In Colab\"/></a>"
      ]
    },
    {
      "cell_type": "code",
      "execution_count": 1,
      "metadata": {
        "id": "kU8Tgw-ST-nY"
      },
      "outputs": [],
      "source": [
        "text1='I love playing basketball'\n",
        "text2='I love playing soccer and basketball'\n",
        "compare_list=[text1,text2]"
      ]
    },
    {
      "cell_type": "markdown",
      "source": [
        "Vectorize the text"
      ],
      "metadata": {
        "id": "A6Y12sVfUiMt"
      }
    },
    {
      "cell_type": "code",
      "source": [
        "from sklearn.feature_extraction.text import TfidfVectorizer\n",
        "tfidf_vectorizer=TfidfVectorizer()\n",
        "\n",
        "# vectorize the texts\n",
        "tf_idf_matrix=tfidf_vectorizer.fit_transform(compare_list)"
      ],
      "metadata": {
        "id": "0U1F9QTJUkYl"
      },
      "execution_count": 4,
      "outputs": []
    },
    {
      "cell_type": "markdown",
      "source": [
        "View matrix words and assigned values"
      ],
      "metadata": {
        "id": "b3pjR8TwVQEE"
      }
    },
    {
      "cell_type": "code",
      "source": [
        "tfidf_vectorizer.vocabulary_"
      ],
      "metadata": {
        "colab": {
          "base_uri": "https://localhost:8080/"
        },
        "id": "BpB8upe1VUVU",
        "outputId": "deefbf4a-d8f8-406e-cdaf-fc4cc98ce48a"
      },
      "execution_count": 5,
      "outputs": [
        {
          "output_type": "execute_result",
          "data": {
            "text/plain": [
              "{'love': 2, 'playing': 3, 'basketball': 1, 'soccer': 4, 'and': 0}"
            ]
          },
          "metadata": {},
          "execution_count": 5
        }
      ]
    },
    {
      "cell_type": "markdown",
      "source": [
        "View the vectors"
      ],
      "metadata": {
        "id": "LABuH6jFVcob"
      }
    },
    {
      "cell_type": "code",
      "source": [
        "print(tf_idf_matrix)"
      ],
      "metadata": {
        "colab": {
          "base_uri": "https://localhost:8080/"
        },
        "id": "v3KQgdCkVePc",
        "outputId": "4c56921a-4d11-408c-f503-12f6beae5684"
      },
      "execution_count": 6,
      "outputs": [
        {
          "output_type": "stream",
          "name": "stdout",
          "text": [
            "  (0, 1)\t0.5773502691896258\n",
            "  (0, 3)\t0.5773502691896258\n",
            "  (0, 2)\t0.5773502691896258\n",
            "  (1, 0)\t0.5330978245262535\n",
            "  (1, 4)\t0.5330978245262535\n",
            "  (1, 1)\t0.3793034928087496\n",
            "  (1, 3)\t0.3793034928087496\n",
            "  (1, 2)\t0.3793034928087496\n"
          ]
        }
      ]
    },
    {
      "cell_type": "markdown",
      "source": [
        "Calculate cosine similarity between the texts"
      ],
      "metadata": {
        "id": "4vap-MkyViEV"
      }
    },
    {
      "cell_type": "code",
      "source": [
        "from sklearn.metrics.pairwise import cosine_similarity\n",
        "cos_sim=cosine_similarity(tf_idf_matrix)\n",
        "print(f'The cosine similarity between two texts is {cos_sim[0,1]}')"
      ],
      "metadata": {
        "colab": {
          "base_uri": "https://localhost:8080/"
        },
        "id": "wtN16AVjVnnc",
        "outputId": "ae03aa0f-10b8-491b-9921-6d859cac38e5"
      },
      "execution_count": 7,
      "outputs": [
        {
          "output_type": "stream",
          "name": "stdout",
          "text": [
            "The cosine similarity between two texts is 0.6569729210330907\n"
          ]
        }
      ]
    }
  ]
}